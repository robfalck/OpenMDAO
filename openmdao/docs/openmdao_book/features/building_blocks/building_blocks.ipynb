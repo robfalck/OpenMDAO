{
 "cells": [
  {
   "cell_type": "markdown",
   "metadata": {},
   "source": [
    "# Building Blocks\n",
    "\n",
    "- [Components](components/components.ipynb)\n",
    "- [Math Library](math_library/math_library.ipynb)\n",
    "- [Drivers](drivers/index.ipynb)\n",
    "- [Solvers](solvers/solvers.ipynb)\n",
    "- [SurrogateModels](surrogates/index.ipynb)\n",
    "- [Function Metadata API](func_api.ipynb)"
   ]
  },
  {
   "cell_type": "code",
   "execution_count": null,
   "metadata": {},
   "outputs": [],
   "source": []
  }
 ],
 "metadata": {
  "celltoolbar": "Tags",
  "kernelspec": {
   "display_name": "Python 3 (ipykernel)",
   "language": "python",
   "name": "python3"
  },
  "language_info": {
   "codemirror_mode": {
    "name": "ipython",
    "version": 3
   },
   "file_extension": ".py",
   "mimetype": "text/x-python",
   "name": "python",
   "nbconvert_exporter": "python",
   "pygments_lexer": "ipython3",
   "version": "3.11.0"
  },
  "orphan": true
 },
 "nbformat": 4,
 "nbformat_minor": 4
}
