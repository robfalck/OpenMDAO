{
 "cells": [
  {
   "cell_type": "code",
   "execution_count": 1,
   "id": "0a534a95",
   "metadata": {},
   "outputs": [],
   "source": [
    "try:\n",
    "    from openmdao.utils.notebook_utils import notebook_mode\n",
    "except ImportError:\n",
    "    !python -m pip install openmdao[notebooks]"
   ]
  },
  {
   "cell_type": "markdown",
   "id": "028f0192",
   "metadata": {},
   "source": [
    "# Math Library (openmdao.math)\n",
    "\n",
    "Certain functions are useful in a gradient-based optimization context, such as smooth activation functions or differentiable maximum/minimum functions.\n",
    "\n",
    "Rather than provide a component that forces a user to structure their system in a certain way and add more components than necessary, the `openmdao.math` package is intended to provide a universal source for _composable_ functions that users can use within their own components.\n",
    "\n",
    "## Derivative functions\n",
    "\n",
    "The functions provided in `openmdao.math` have corresponing analytic derivative functions.\n",
    "\n",
    "These functions are vectorized in such a way that their jacobian matrix is typically diagonal, where the diagonal elements of the jacobian are nonzero and all off-diagonal elements are zero.\n",
    "Instead of returning the entire dense jacobian, these derivative functions generally return the diagonal elements only.\n",
    "There are some exceptions to this, such as `norm`, since it can return a non-diagonal jacobian when the `axis` argument is specified.\n",
    "\n",
    "Derivatives of function outputs with respect to their inputs are returned by functions named\n",
    "`d_{func_name}`. In addition to the arguments of the function, functions which accept more than one argument\n",
    "provide boolean arguments which determine whether the derivative with respect to each argument is returned.\n",
    "\n",
    "For instance, `d_smooth_abs(x, mu=1.0E-5, dmu=False)` returns the jacobian matrix for the smooth absolute value function with respect `x` and `None`, since the user disabled the calculation of the derivatives with respect to `mu`.  This can be useful when some arguments to the function are constants in the particular use-case."
   ]
  },
  {
   "cell_type": "code",
   "execution_count": 17,
   "id": "9888fda8",
   "metadata": {
    "scrolled": true
   },
   "outputs": [
    {
     "name": "stdout",
     "output_type": "stream",
     "text": [
      "x = [0.   1.25 2.5  3.75 5.  ]\n",
      "\n",
      "d_smoothabs_dx = [0. 1. 1. 1. 1.]\n",
      "\n",
      "d_smoothabs_dmu = None\n",
      "\n"
     ]
    }
   ],
   "source": [
    "import numpy as np\n",
    "from openmdao.math import d_smooth_abs, d_arctan2\n",
    "\n",
    "x = np.linspace(0, 5, 5)\n",
    "print(f'x = {x}\\n')\n",
    "\n",
    "d_sabs_dx, d_sabs_dmu = d_smooth_abs(x, mu=1.0E-5, dmu=False)\n",
    "\n",
    "print(f'd_smoothabs_dx = {d_sabs_dx}\\n')\n",
    "print(f'd_smoothabs_dmu = {d_sabs_dmu}\\n')"
   ]
  },
  {
   "cell_type": "markdown",
   "id": "1bd52518",
   "metadata": {},
   "source": [
    "\n",
    "A function will return a derivative for each output and each input. For instance, say we have\n",
    "a function named `foo(x, y, z)` that returns two values, `a` and `b`.\n",
    "\n",
    "The corresponding `d_foo(x, y, z)` will return 6 elements. Think of them as being in row-major\n",
    "order where there is one row for each output and one column for each argument. Then we have\n",
    "\n",
    "## Using `jax`\n",
    "\n",
    "The `jax` Python package provides functionality that duplicates the math capability of numpy, but also supports automatic differentiation and just-in-time (jit) compilation.\n",
    "\n",
    "By setting the environment variable `OPENMDAO_MATH_USE_JAX=1` (or to some other \"truthy\" value), the functions in `openmdao.math` will be built using `jax` rather than `numpy`, and therefore support `jax` features such as automatic differentiation and jit compilation.\n",
    "\n",
    "```{eval-rst}\\n\",\n",
    "    .. autofunction:: openmdao.math.act_tanh\n",
    "```\n",
    "\n",
    "\n",
    "## Derivatives\n",
    "\n",
    "We wrap a function using the `omf.wrap` function, for example:\n"
   ]
  }
 ],
 "metadata": {
  "kernelspec": {
   "display_name": "Python 3 (ipykernel)",
   "language": "python",
   "name": "python3"
  },
  "language_info": {
   "codemirror_mode": {
    "name": "ipython",
    "version": 3
   },
   "file_extension": ".py",
   "mimetype": "text/x-python",
   "name": "python",
   "nbconvert_exporter": "python",
   "pygments_lexer": "ipython3",
   "version": "3.11.0"
  }
 },
 "nbformat": 4,
 "nbformat_minor": 5
}
