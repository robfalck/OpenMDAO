{
 "cells": [
  {
   "cell_type": "markdown",
   "metadata": {},
   "source": [
    "# Running Your Models\n",
    "\n",
    "- [Setting and Getting Component Variables](set_get.ipynb)\n",
    "- [Using 'set_input_defaults'](set_input_defaults.ipynb)\n",
    "- [Setup Your Model](setup.ipynb)\n",
    "- [Run Your Model](run_model.ipynb)\n",
    "- [Run a Driver](run_driver.ipynb)"
   ]
  }
 ],
 "metadata": {
  "celltoolbar": "Tags",
  "kernelspec": {
   "display_name": "Python 3",
   "language": "python",
   "name": "python3"
  },
  "language_info": {
   "codemirror_mode": {
    "name": "ipython",
    "version": 3
   },
   "file_extension": ".py",
   "mimetype": "text/x-python",
   "name": "python",
   "nbconvert_exporter": "python",
   "pygments_lexer": "ipython3",
   "version": "3.12.6"
  },
  "orphan": true
 },
 "nbformat": 4,
 "nbformat_minor": 4
}
